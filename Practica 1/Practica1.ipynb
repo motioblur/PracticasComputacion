{
 "cells": [
  {
   "cell_type": "markdown",
   "metadata": {},
   "source": [
    "# Introducción a las herramientas del cómputo científico.\n",
    "\n",
    "Sergio A. Alcalá Corona <br>\n",
    "Sergio A. Sánchez Chávez\n",
    "\n",
    "---\n",
    "---"
   ]
  },
  {
   "cell_type": "markdown",
   "metadata": {},
   "source": [
    "## Práctica 1.  SISTEMA OPERATIVO LINUX\n",
    "Esta práctica es para que empiezes a familiarizarte con algunos de los comandos de Bash y su sintaxis además de que aprendas a utilizar los cuadernos (notebook) de Jupyter.\n",
    "\n",
    "Tendrás que abrir tu Jupyterlab y en un cuaderno de Bash realizarás lo siguiente. Si tienes que colocar una respuesta hazlo en una celda 'Markdown' y no de código."
   ]
  },
  {
   "cell_type": "markdown",
   "metadata": {},
   "source": [
    "### Manejo e información de directorios y archivos"
   ]
  },
  {
   "cell_type": "markdown",
   "metadata": {},
   "source": [
    "1. $\\;$\n",
    "\n",
    "  1. Crea un directorio llamado ApellidoPaterno (tu primer apellido sin espacios, acentos o carácteres especiales como la ñ, por ejemplo **Alcala/**).\n",
    "\n",
    "  2. Dentro de este directorio crearás otro directorio con tu segundo apellido (respetando la regla de no llevar acentos, ni carácteres especiales. e.g **ApellidoMaterno/**). \n",
    "  \n",
    "  3. A su vez dentro de este último directorio, crea uno (o más) con tu(s) nombres(s) (**Sergio/, Anronio/**)."
   ]
  },
  {
   "cell_type": "code",
   "execution_count": 1,
   "metadata": {},
   "outputs": [],
   "source": [
    "mkdir -p Vite/Riveros/Carlos/Emilio"
   ]
  },
  {
   "cell_type": "markdown",
   "metadata": {},
   "source": [
    "mkdir crea los directorios y la opción -p los crea de manera recursiva."
   ]
  },
  {
   "cell_type": "markdown",
   "metadata": {},
   "source": [
    "2. Después dentro de cada directorio vas a crear un archivo con el comando *touch*. El nombre del archivo, es a tu elección sin embargo uno de ellos debe de comenzar con un punto '.' **¿Que pása si ejecutas *cd ~*?**"
   ]
  },
  {
   "cell_type": "code",
   "execution_count": 2,
   "metadata": {},
   "outputs": [],
   "source": [
    "touch ./Vite/archivo1 ./Vite/Riveros/archivo2 ./Vite/Riveros/Carlos/archivo3 ./Vite/Riveros/Carlos/Emilio/.archivo4 "
   ]
  },
  {
   "cell_type": "markdown",
   "metadata": {},
   "source": [
    "touch te crea un archivo vacío, y podemos concatenar varias intrucciones para que sean creados en una sola línea. y el cáracter \".\" hace referencia al directorio en el que nos encontramos, por lo que hace más fácil la creación de los archivos. Si ejecutas \"cd ~\" te lleva hasta el directorio /home/usuari"
   ]
  },
  {
   "cell_type": "markdown",
   "metadata": {},
   "source": [
    "3. \n",
    "  1. Dentro de la carpeta PrimerNombre ejecuta el comando *ls -R*.\n",
    "  2. ¿Qué sucedió con el archivo que nombraste con un punto'.' inicial?\n",
    "  3. ¿Que opción deberías usar para ver el archivo que nombraste con '.' inicial?\n"
   ]
  },
  {
   "cell_type": "code",
   "execution_count": 3,
   "metadata": {},
   "outputs": [
    {
     "name": "stdout",
     "output_type": "stream",
     "text": [
      ".:\n",
      "archivo3  \u001b[0m\u001b[01;34mEmilio\u001b[0m\n",
      "\n",
      "./Emilio:\n"
     ]
    }
   ],
   "source": [
    "cd ./Vite/Riveros/Carlos && ls -R "
   ]
  },
  {
   "cell_type": "markdown",
   "metadata": {},
   "source": [
    "El archivo con un punto inicial se ocultó. La opción -R hace que se pueda ver el en forma de árbol la estructura de los archivos de niveles inferiores."
   ]
  },
  {
   "attachments": {
    "archivos.png": {
     "image/png": "[encoded data removed]"
    }
   },
   "cell_type": "markdown",
   "metadata": {},
   "source": [
    "4. En el directorio ApellidoPaterno, crea la siguiente estructura de directorios \n",
    "\n",
    "![archivos.png](attachment:archivos.png)"
   ]
  },
  {
   "cell_type": "code",
   "execution_count": 4,
   "metadata": {},
   "outputs": [],
   "source": [
    "cd ../.. && mkdir -p respaldo_sistema/configuracion/X11/ respaldo_sistema/configuracion/gnome/ respaldo_sistema/programas/ respaldo_sistema/reinstalacion/ respaldo_sistema/usuarios/python/scripts"
   ]
  },
  {
   "cell_type": "markdown",
   "metadata": {},
   "source": [
    "Primero regresas dos directorios antes y haces todo el árbol de directorios con mkdir recursivo"
   ]
  },
  {
   "cell_type": "markdown",
   "metadata": {},
   "source": [
    "5. Dentro de del directorio reinstalacion/ (del inciso anterior) crea los siguientes archivos:  guia, notas, secuencia.data, paquetes.pkg e imagen.iso"
   ]
  },
  {
   "cell_type": "code",
   "execution_count": 5,
   "metadata": {},
   "outputs": [],
   "source": [
    "cd respaldo_sistema/reinstalacion/ && touch guia notas secuencia.data paquetes.pkg imagen.iso"
   ]
  },
  {
   "cell_type": "markdown",
   "metadata": {},
   "source": [
    "Vas a la carpeta reinstalacion y haces todos los archivos con touch"
   ]
  },
  {
   "cell_type": "markdown",
   "metadata": {},
   "source": [
    "6. Copia al directorio programas la totalidad de los archivos y directorios contenidos en el directorio /bin del sistema. "
   ]
  },
  {
   "cell_type": "code",
   "execution_count": 6,
   "metadata": {},
   "outputs": [],
   "source": [
    "cd ../programas && cp -r /bin ."
   ]
  },
  {
   "cell_type": "markdown",
   "metadata": {},
   "source": [
    "Te regresas una carpeta y cambias de directorio a programas y copias de manera recursiva /bin"
   ]
  },
  {
   "cell_type": "markdown",
   "metadata": {},
   "source": [
    "7. Copia al directorio configuracion/X11 todos los archivos y directorios contenidos en el directorio /etc/X11/"
   ]
  },
  {
   "cell_type": "code",
   "execution_count": 7,
   "metadata": {},
   "outputs": [],
   "source": [
    "cd ../configuracion/X11 && cp -r /etc/X11/ ."
   ]
  },
  {
   "cell_type": "markdown",
   "metadata": {},
   "source": [
    "Regresamos un directorio y cambiamos de directorio a configuracion/X11 y copiamos de manera recursiva /etc/X11"
   ]
  },
  {
   "cell_type": "markdown",
   "metadata": {},
   "source": [
    "8. Crea con un solo comando un archivo llamado *\"hola.txt\"* con el contenido \"Hola\"."
   ]
  },
  {
   "cell_type": "code",
   "execution_count": 8,
   "metadata": {},
   "outputs": [],
   "source": [
    "cd ../../.. && echo \"Hola\" > hola.txt"
   ]
  },
  {
   "cell_type": "markdown",
   "metadata": {},
   "source": [
    "Primero regresamos hasta la carpeta Vite. Luego con echo creas el texto \"Hola\" y le pones su salida hacia hola.txt"
   ]
  },
  {
   "cell_type": "markdown",
   "metadata": {},
   "source": [
    "9. Crea un archivo llamado \"hola2.txt\" que contenga el contenido de \"hola.txt\" y la frase \"de nuevo\".\n",
    "\n"
   ]
  },
  {
   "cell_type": "code",
   "execution_count": 9,
   "metadata": {},
   "outputs": [],
   "source": [
    "cp hola.txt ./hola2.txt && echo \"de nuevo\" >> hola2.txt "
   ]
  },
  {
   "cell_type": "markdown",
   "metadata": {},
   "source": [
    "Primero hacemos una copia de hola.txt y luego le insertamos el texto \"de nuevo\" dentro de esta copia que se llama hola2.txt"
   ]
  },
  {
   "cell_type": "markdown",
   "metadata": {},
   "source": [
    "10. Crea un archivo llamado PEGADO.txt que contenga las primeras 37 lineas del archivo .bashrc y las ultimas 23 lineas del archivo .bash_history"
   ]
  },
  {
   "cell_type": "code",
   "execution_count": 10,
   "metadata": {
    "scrolled": true
   },
   "outputs": [],
   "source": [
    "head -n 37 ~/.bashrc >> PEGADO.txt && tail -n 23 ~/.bash_history >> PEGADO.txt"
   ]
  },
  {
   "cell_type": "markdown",
   "metadata": {},
   "source": [
    "Leemos las primeras 37 lineas de bashrc y las pasamos a PEGADO.txt, después leemos las últimas 23 líneas de bash_history y las insertamos en PEGADO.txt"
   ]
  },
  {
   "cell_type": "markdown",
   "metadata": {},
   "source": [
    "INSTRUCCIONES:\n",
    "\n",
    "\n",
    "EJERCICIOS:\n",
    "\n",
    "\n",
    "\n",
    "TRATA DE USAR EL MENOR NUMERO DE COMANDOS POSIBLES.\n",
    "\n",
    "\n",
    "\n",
    "\n",
    "<br>\n",
    "\n",
    "\n",
    "\n",
    "<br>\n",
    "\n",
    "\n",
    "\n",
    "\n",
    "\n",
    "\n",
    "\n",
    "\n",
    "\n",
    "\n",
    "\n",
    "\n",
    "\n",
    "\n",
    "\n",
    "\n",
    "\n",
    "\n",
    "\n"
   ]
  },
  {
   "cell_type": "code",
   "execution_count": null,
   "metadata": {},
   "outputs": [],
   "source": []
  }
 ],
 "metadata": {
  "kernelspec": {
   "display_name": "Bash",
   "language": "bash",
   "name": "bash"
  },
  "language_info": {
   "codemirror_mode": "shell",
   "file_extension": ".sh",
   "mimetype": "text/x-sh",
   "name": "bash"
  }
 },
 "nbformat": 4,
 "nbformat_minor": 4
}
